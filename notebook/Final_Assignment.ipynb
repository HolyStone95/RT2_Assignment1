{
 "cells": [
  {
   "cell_type": "markdown",
   "id": "509fbc00",
   "metadata": {},
   "source": [
    "# This Jupyter Notebook implements a user interface for the previously developed **RT2_Assignment1** package , in particular the one present in the branch **actions** of the repository at : https://github.com/HolyStone95/RT2_Assignment1. \n",
    "\n",
    "## The node **go_to_point.py** in the **scripts** folder of the package has been slightly modified in order to receive linear and angular velocities set by two slider inside this notebook, particularly in the module number 3."
   ]
  },
  {
   "cell_type": "markdown",
   "id": "2c443c97",
   "metadata": {},
   "source": [
    "# This particular module starts a ros node, initializes variables and implements two buttons in order to start and stop the robot random behaviour\n",
    "\n",
    "When the button to stop the robot is pressed the variable **cancelled** gets incremented, the client to **/user_interface** sends a **Command** to the server, which handles the cancellation of the previous goal and sets robot velocities to 0. On the other end the button start sends a **Command** to start the robot random behaviour ( Please note that the robot won't actually start moving until the velocities are set in the next module). A subscriber to **/go_to_point/result** increments the value of variable **reached** every time a target position is achieved. For each reached target it also computes the elapsed time to reach it that will be displayed in module number 10."
   ]
  },
  {
   "cell_type": "code",
   "execution_count": null,
   "id": "9427cd06",
   "metadata": {
    "ExecuteTime": {
     "end_time": "2021-09-22T12:04:58.158749Z",
     "start_time": "2021-09-22T12:04:53.529369Z"
    }
   },
   "outputs": [],
   "source": [
    "from ipywidgets import Button, Layout, ButtonStyle, HBox, GridBox\n",
    "from rt2_assignment1.srv import Command\n",
    "from rt2_assignment1.msg import GoalReachingAction\n",
    "from rt2_assignment1.msg import GoalReachingActionResult\n",
    "from geometry_msgs.msg import Twist\n",
    "from nav_msgs.msg import Odometry\n",
    "from matplotlib import animation, rc\n",
    "from matplotlib.animation import FuncAnimation\n",
    "import actionlib\n",
    "import ipywidgets as widgets\n",
    "import matplotlib.pyplot as plt\n",
    "import rospy\n",
    "import numpy as np\n",
    "import jupyros as jr\n",
    "import time\n",
    "%matplotlib widget\n",
    "\n",
    "\n",
    "rospy.init_node('jupyter_node')\n",
    "## Client to send start and stop commands\n",
    "ui_client = rospy.ServiceProxy('/user_interface', Command)\n",
    "## Var to keep track of robot moving or not\n",
    "moving = False\n",
    "## Var to keep track of number of cancelled targets\n",
    "cancelled = 0\n",
    "## Var to keep track of number of reached targets\n",
    "reached = 0\n",
    "\n",
    "## Initializing clock\n",
    "clock = time.time()\n",
    "## Var to keep track of time for plots\n",
    "time_passed=list(range(0,10))\n",
    "## Var to store elapsed times for reached targets\n",
    "times = []\n",
    "## List to store values of linear vel from /cmd_vel\n",
    "cmd_lin_data=list()\n",
    "## List to store values of angular vel from /cmd_vel\n",
    "cmd_ang_data=list()\n",
    "## List to store values of linear vel from /odom\n",
    "act_lin_data=list()\n",
    "## List to store values of angular vel from /odom\n",
    "act_ang_data=list()\n",
    "\n",
    "b1 = Button(\n",
    "    description='Start',\n",
    "    layout=Layout(width='25%', align=\"center\", grid_area='b1'),\n",
    "    style=ButtonStyle(button_color='lightblue'))\n",
    "b2 = Button(description='Stop',\n",
    "    layout=Layout(width='25%', grid_area='b2'),\n",
    "    style=ButtonStyle(button_color='moccasin'))\n",
    "\n",
    "## Callback linked to /go_to_point/result\n",
    "#\n",
    "#  Updates a variable to count how many reached targets \n",
    "#  and saves times\n",
    "# @var reached keeps track of number of reached targets\n",
    "# @var times stores the elapsed time for each reached target\n",
    "def clbk(msg):\n",
    "    global reached,stop_time, start_time\n",
    "    stop_time=time.time()\n",
    "    reached = reached+1\n",
    "    times.append(stop_time - start_time)\n",
    "\n",
    "## Function triggered when the start button is pressed\n",
    "#\n",
    "# @var moving keeps track of if robot is moving or not\n",
    "def on_button1_clicked(b):\n",
    "    global moving, start_time\n",
    "    print(\"Robot random behaviour starting\")\n",
    "    ui_client(\"start\")\n",
    "    start_time = time.time()\n",
    "    moving = True\n",
    "    \n",
    "## Function triggered when the stop button is pressed\n",
    "#\n",
    "# Updates the variable keeping track of cancelled targets\n",
    "# @var moving keeps track of if robot is moving or not   \n",
    "# @var cancelld keeps track of number of cancelled goals\n",
    "def on_button2_clicked(b):\n",
    "    global moving, cancelled\n",
    "    print(\"Robot random behaviour stopping\")    \n",
    "    ui_client(\"stop\")\n",
    "    if moving == True:\n",
    "        cancelled += 1\n",
    "## Subcriber to know when a goal is reached\n",
    "sub = rospy.Subscriber('/go_to_point/result',GoalReachingActionResult, clbk)\n",
    "        \n",
    "b1.on_click(on_button1_clicked)\n",
    "b2.on_click(on_button2_clicked)\n",
    "\n",
    "H2=HBox([b1, b2])\n",
    "display(H2)"
   ]
  },
  {
   "cell_type": "markdown",
   "id": "680ba91f",
   "metadata": {},
   "source": [
    "# This module implements two slider to set velocities\n",
    "\n",
    " The velocities are published on the topic **/cmd_vel_filter**, and then \"elaborated\" by the node **go_to_point.py** to set the velocities on **/cmd_vel**"
   ]
  },
  {
   "cell_type": "code",
   "execution_count": null,
   "id": "3d16abf9",
   "metadata": {
    "ExecuteTime": {
     "end_time": "2021-09-22T12:04:58.264273Z",
     "start_time": "2021-09-22T12:04:58.163180Z"
    }
   },
   "outputs": [],
   "source": [
    "## Declaration for linear velocity slider\n",
    "linear = widgets.FloatSlider(description='linear velocity', min=0, max=1.0)\n",
    "display(linear)\n",
    "\n",
    "## Declaration for angular velocity slider\n",
    "angular = widgets.FloatSlider(description='angular velocity', min=-2.0, max=2.0)\n",
    "display(angular)\n",
    "\n",
    "## Publisher to /cmd_vel_filter to send a velocity to the robot\n",
    "pub = rospy.Publisher('/cmd_vel_filter', Twist, queue_size=10)\n",
    "msg = Twist()\n",
    "\n",
    "## Function the updates the msg when the linear slider is used\n",
    "#\n",
    "#\n",
    "def on_value_change(change):\n",
    "    global msg\n",
    "    msg.linear.x = change['new']\n",
    "    \n",
    "## Function the updates the msg when the angular slider is used\n",
    "#\n",
    "#    \n",
    "def on_valueang_change(change):\n",
    "    global msg\n",
    "    msg.angular.z = change['new']\n",
    "\n",
    "## Function triggered when the publish button is pressed\n",
    "#\n",
    "# Publishes on topic /cmd_vel_filter\n",
    "def on_button8_clicked(b):\n",
    "    global msg\n",
    "    print(\"Setting velocities.....\")\n",
    "    pub.publish(msg)\n",
    "    \n",
    "linear.observe(on_value_change, names='value')\n",
    "angular.observe(on_valueang_change, names='value')\n",
    "\n",
    "## Button declaration\n",
    "b8 = Button(\n",
    "    description='Set velocities',\n",
    "    layout=Layout(width='25%', align=\"center\"),\n",
    "    style=ButtonStyle(button_color='lightblue'))\n",
    "\n",
    "b8.on_click(on_button8_clicked)\n",
    "\n",
    "b8"
   ]
  },
  {
   "cell_type": "markdown",
   "id": "50a090df",
   "metadata": {},
   "source": [
    "# This module implements 5 buttons to directly control the robot\n",
    "\n",
    "It publishes messages of type Twist on cmd_vel accordigly to 4 buttons that allow to go straight, go backwards, rotate left or right.\n",
    "Also a button for stopping the robot is implemented.Every time a button is pressed the previously set goal is cancelled"
   ]
  },
  {
   "cell_type": "code",
   "execution_count": null,
   "id": "4a185f1d",
   "metadata": {
    "ExecuteTime": {
     "end_time": "2021-09-22T12:04:58.469247Z",
     "start_time": "2021-09-22T12:04:58.273207Z"
    }
   },
   "outputs": [],
   "source": [
    "client = actionlib.SimpleActionClient('go_to_point', GoalReachingAction)\n",
    "\n",
    "b3=Button(\n",
    "    description='Backwards',\n",
    "    layout=Layout(width='auto', grid_area='b3'),\n",
    "    icon='fa-caret-down'\n",
    ")\n",
    "\n",
    "b4=Button(\n",
    "    description='Turn Right',\n",
    "    layout=Layout(width='auto', grid_area='b4'),    \n",
    "    icon='fa-caret-right'\n",
    ")\n",
    "\n",
    "b5=Button(\n",
    "    description='Turn Left',\n",
    "    layout=Layout(width='auto', grid_area='b5'),    \n",
    "    icon='fa-caret-left'\n",
    ")\n",
    "\n",
    "b6=Button(\n",
    "    description='Forward',\n",
    "    layout=Layout(width='auto', grid_area='b6'),\n",
    "    icon='fa-caret-up'\n",
    ")\n",
    "\n",
    "b7=Button(\n",
    "    description='Stop',\n",
    "    layout=Layout(width='auto', grid_area='b7'),\n",
    "    icon='fa-stop-circle'\n",
    ")\n",
    "\n",
    "def on_button3_clicked(b):\n",
    "    client.cancel_goal\n",
    "    msg.linear.x = -0.4\n",
    "    msg.linear.y = 0.0\n",
    "    msg.angular.z = 0.0\n",
    "    pub.publish(msg)\n",
    "    \n",
    "def on_button4_clicked(b):\n",
    "    client.cancel_goal\n",
    "    msg.linear.x = 0.0\n",
    "    msg.linear.y = 0.0\n",
    "    msg.angular.z = 0.4\n",
    "    pub.publish(msg)\n",
    "    \n",
    "def on_button5_clicked(b):\n",
    "    client.cancel_goal    \n",
    "    msg.linear.x = 0.0\n",
    "    msg.linear.y = 0.0\n",
    "    msg.angular.z = -0.4\n",
    "    pub.publish(msg)\n",
    "    \n",
    "def on_button6_clicked(b):\n",
    "    client.cancel_goal\n",
    "    msg.linear.x = 0.4\n",
    "    msg.linear.y = 0.0\n",
    "    msg.angular.z = 0.0\n",
    "    pub.publish(msg)    \n",
    "    \n",
    "def on_button7_clicked(b):\n",
    "    client.cancel_goal\n",
    "    msg.linear.x = 0.0\n",
    "    msg.linear.y = 0.0\n",
    "    msg.angular.z = 0.0\n",
    "    pub.publish(msg)\n",
    "    \n",
    "b3.on_click(on_button3_clicked)\n",
    "b4.on_click(on_button4_clicked)\n",
    "b5.on_click(on_button5_clicked)\n",
    "b6.on_click(on_button6_clicked)\n",
    "b7.on_click(on_button7_clicked)\n",
    "\n",
    "display(b7)\n",
    "\n",
    "GridBox(children=[b3, b4, b5, b6],\n",
    "layout=Layout(\n",
    "width='60%',\n",
    "grid_template_rows='auto auto',\n",
    "grid_template_columns='33% 33% 33%',\n",
    "grid_template_areas='''\n",
    "\" . b6 . \"\n",
    "\"b5 b3 b4 \"\n",
    "''')\n",
    ")"
   ]
  },
  {
   "cell_type": "markdown",
   "id": "e84266cf",
   "metadata": {},
   "source": [
    "# This module implements two subscribers to /cmd_vel and /odom\n",
    "\n",
    " It retrieves and saves robot position, and robot linear and angular velocities accordingly to both /cmd_vel and /odom"
   ]
  },
  {
   "cell_type": "code",
   "execution_count": null,
   "id": "66be45cf",
   "metadata": {
    "ExecuteTime": {
     "end_time": "2021-09-22T12:04:58.499753Z",
     "start_time": "2021-09-22T12:04:58.473443Z"
    }
   },
   "outputs": [],
   "source": [
    "## Var to store x position of the robot\n",
    "x_pose=[]\n",
    "## Var to store y position of the robot\n",
    "y_pose=[]\n",
    "## Var to store orientation of the robot\n",
    "z_orient=[]\n",
    "\n",
    "## Callback of subscriber to /cmd_vel\n",
    "#\n",
    "# Stores the linear and angular velocities.\n",
    "# @var cmd_lin_data used to store linear velocity information\n",
    "# @var cmd_ang_data used to store angular velocity information\n",
    "def cmd_vel_callback(msg):\n",
    "    global cmd_lin_data,cmd_ang_data\n",
    "    if len(cmd_lin_data)>10:\n",
    "        cmd_lin_data.pop(0)\n",
    "        cmd_ang_data.pop(0)\n",
    "    #get values\n",
    "    iupsilon1 = np.float32(msg.linear.x)\n",
    "    iupsilon2 = np.float32(msg.angular.z)\n",
    "    #update arrays\n",
    "    cmd_ang_data.append(iupsilon2)\n",
    "    cmd_lin_data.append(iupsilon1)\n",
    "\n",
    "## Callback of subscriber to /odom\n",
    "#\n",
    "# Stores the linear and angular velocities and the pose of the robot\n",
    "# @var cmd_lin_data used to store linear velocity information\n",
    "# @var cmd_ang_data used to store angular velocity information\n",
    "# @var x_pose store x position of the robot\n",
    "# @var y_pose store y position of the robot\n",
    "# @var z_orient store orientation of the robot\n",
    "def act_vel_callback(msg):\n",
    "    \n",
    "    global time_passed, act_lin_data,act_ang_data\n",
    "    global x_pose,y_pose,z_orient\n",
    "    \n",
    "    x_pose.append(msg.pose.pose.position.x)\n",
    "    y_pose.append(msg.pose.pose.position.y)\n",
    "    z_orient.append(msg.pose.pose.orientation.z)\n",
    "    \n",
    "    if len(time_passed)>10:\n",
    "        time_passed.pop(0)\n",
    "        act_lin_data.pop(0)\n",
    "        act_ang_data.pop(0)\n",
    "    #get angular and linear velocity\n",
    "    y1 = np.float32(msg.twist.twist.angular.z)\n",
    "    y2 = np.float32(msg.twist.twist.linear.x)\n",
    "    #update timeline\n",
    "    t = np.float32(time.time()-clock)\n",
    "    #actual data inserted in array\n",
    "    act_ang_data.append(y1)\n",
    "    time_passed.append(t)\n",
    "    act_lin_data.append(y2)\n",
    "    \n",
    "\n",
    "cmd_sub = rospy.Subscriber('/cmd_vel', Twist, cmd_vel_callback)\n",
    "odom_sub = rospy.Subscriber('/odom', Odometry, act_vel_callback)"
   ]
  },
  {
   "cell_type": "markdown",
   "id": "8c434c17",
   "metadata": {},
   "source": [
    "# This module sets up a plot for displaying linear velocities from /cmd_vel and /odom\n",
    "\n",
    "The velocities displayed are the ones obtained and saved in the previous module\n"
   ]
  },
  {
   "cell_type": "code",
   "execution_count": null,
   "id": "56498234",
   "metadata": {
    "ExecuteTime": {
     "end_time": "2021-09-22T12:04:58.642288Z",
     "start_time": "2021-09-22T12:04:58.507704Z"
    }
   },
   "outputs": [],
   "source": [
    "def init1():\n",
    "    line1.set_data([], [])\n",
    "    line2.set_data([], [])\n",
    "    return [line1,line2]\n",
    "\n",
    "fig1, ax1 = plt.subplots()\n",
    "\n",
    "line1, = ax1.plot([], [], color ='r', label ='/odom')\n",
    "line2, = ax1.plot([], [], color ='b', label ='/cmd_vel')\n",
    "ax1.set_xlabel('time (s)') \n",
    "ax1.set_ylabel('velocity m/s')\n",
    "ax1.set_title(\"Linear velocity\")\n",
    "plt.legend(loc='upper right')"
   ]
  },
  {
   "cell_type": "markdown",
   "id": "dff4dcff",
   "metadata": {},
   "source": [
    "## The animate function and the animator object declaration.\n",
    "\n",
    "This part actually updates the plot"
   ]
  },
  {
   "cell_type": "code",
   "execution_count": null,
   "id": "84bce41a",
   "metadata": {
    "ExecuteTime": {
     "end_time": "2021-09-22T12:04:58.660687Z",
     "start_time": "2021-09-22T12:04:58.645731Z"
    }
   },
   "outputs": [],
   "source": [
    "## Animate function\n",
    "#\n",
    "# Updates the plot accordingly to velocities and time\n",
    "def animate1(i):\n",
    "    #updated values are set in the line\n",
    "    line1.set_data(time_passed, act_lin_data)\n",
    "    line2.set_data(time_passed, cmd_lin_data)\n",
    "    ax1.axis([time_passed[0]-0.2,time_passed[9]+0.2,-3,3]) #x axis is continously updated too   \n",
    "    return [line1,line2]\n",
    "\n",
    "#animator\n",
    "anim1 = animation.FuncAnimation(fig1, animate1, init_func=init1,\n",
    "                               frames=100, interval=20, blit=True)"
   ]
  },
  {
   "cell_type": "markdown",
   "id": "f80e471e",
   "metadata": {},
   "source": [
    "# This module sets up a plot for displaying angular velocities from both /cmd_vel and /odom\n",
    "\n",
    "The velocities displayed are the ones obtained and saved in module 5"
   ]
  },
  {
   "cell_type": "code",
   "execution_count": null,
   "id": "953d7b9e",
   "metadata": {
    "ExecuteTime": {
     "end_time": "2021-09-22T12:04:58.818711Z",
     "start_time": "2021-09-22T12:04:58.671979Z"
    }
   },
   "outputs": [],
   "source": [
    "def init2():\n",
    "    line3.set_data([], [])\n",
    "    line4.set_data([], [])\n",
    "    return [line3,line4]\n",
    "\n",
    "fig2, ax2 = plt.subplots()\n",
    "\n",
    "line3, = ax2.plot([], [], color ='r', label ='/odom')\n",
    "line4, = ax2.plot([], [], color ='b', label ='/cmd_vel')\n",
    "ax2.set_xlabel('time (s)') \n",
    "ax2.set_ylabel('velocity rad/s')\n",
    "ax2.set_title(\"Angular velocity\")\n",
    "plt.legend(loc='upper right')\n",
    " "
   ]
  },
  {
   "cell_type": "markdown",
   "id": "3121a405",
   "metadata": {},
   "source": [
    "## The animate function and the animator object declaration.\n",
    "\n",
    "This part actually updates the plot"
   ]
  },
  {
   "cell_type": "code",
   "execution_count": null,
   "id": "05ed2cd8",
   "metadata": {
    "ExecuteTime": {
     "end_time": "2021-09-22T12:04:58.860002Z",
     "start_time": "2021-09-22T12:04:58.826638Z"
    }
   },
   "outputs": [],
   "source": [
    "## Animate function\n",
    "#\n",
    "# Updates the plot accordingly to velocities and time\n",
    "def animate2(i):\n",
    "    line3.set_data(time_passed, act_ang_data)\n",
    "    line4.set_data(time_passed, cmd_ang_data)\n",
    "    ax2.axis([time_passed[0]-0.2,time_passed[9]+0.2,-3,3])\n",
    "    return [line3,line4]\n",
    "\n",
    "anim2 = animation.FuncAnimation(fig2, animate2, init_func=init2,\n",
    "                               frames=100, interval=20, blit=True)   "
   ]
  },
  {
   "cell_type": "markdown",
   "id": "878d318a",
   "metadata": {},
   "source": [
    "# This module sets up a plot for displaying robot pose\n",
    "\n",
    "The pose is the pose retrieved from **/odom** in module number 5"
   ]
  },
  {
   "cell_type": "code",
   "execution_count": null,
   "id": "6ca3f117",
   "metadata": {
    "ExecuteTime": {
     "end_time": "2021-09-22T12:04:59.012986Z",
     "start_time": "2021-09-22T12:04:58.861486Z"
    },
    "scrolled": true
   },
   "outputs": [],
   "source": [
    "fig_3, ax3 = plt.subplots()\n",
    "\n",
    "ax3.set_xlim(( -10, 10))\n",
    "ax3.set_ylim((-10, 10))\n",
    "\n",
    "ax3.set_title('robot pose')\n",
    "\n",
    "line, = ax3.plot([], [], 'ro')\n",
    "\n",
    "\n",
    "def init3():\n",
    "    line.set_data([], [])\n",
    "    return (line)"
   ]
  },
  {
   "cell_type": "markdown",
   "id": "295e43c4",
   "metadata": {},
   "source": [
    "## The animate function and the animator object declaration.\n",
    "\n",
    "This part actually updates the plot"
   ]
  },
  {
   "cell_type": "code",
   "execution_count": null,
   "id": "13e6d4b3",
   "metadata": {
    "ExecuteTime": {
     "end_time": "2021-09-22T12:04:59.023915Z",
     "start_time": "2021-09-22T12:04:59.014837Z"
    }
   },
   "outputs": [],
   "source": [
    "def animate3(i):\n",
    "    line.set_data(x_pose, y_pose)\n",
    "    return (line)\n",
    "\n",
    "anim3 = animation.FuncAnimation(fig_3, animate3, init_func=init3,\n",
    "                               frames=100, interval=20, blit=True)"
   ]
  },
  {
   "cell_type": "markdown",
   "id": "3c09ce9a",
   "metadata": {},
   "source": [
    "# This module sets up a plot for displaying reached vs cancelled targets\n",
    "\n",
    "The values displayed are the ones updated and saved in module number 1, in which when the button to cancel the goal is pressed the variable **cancelled** gets incremented, and a subscriber to **/go_to_point/result** increments the value of variable **reached** every time a target position is achieved. Here the values are retrieved every time the button to update the plot is pressed, and the plot is redrawn accordingly."
   ]
  },
  {
   "cell_type": "code",
   "execution_count": null,
   "id": "8979f2e7",
   "metadata": {
    "ExecuteTime": {
     "end_time": "2021-09-22T12:04:59.271062Z",
     "start_time": "2021-09-22T12:04:59.027120Z"
    },
    "scrolled": false
   },
   "outputs": [],
   "source": [
    "fig_4, ax4 = plt.subplots()\n",
    "types = ['Reached', 'Cancelled']\n",
    "ax4.set_title('Reached vs Aborted objectives')\n",
    "ax4.set_ylabel('Scores')\n",
    "\n",
    "## Function triggered when clicked on button\n",
    "#\n",
    "# Updates the plot\n",
    "def on_button9_clicked(b):\n",
    "    y=(reached, cancelled)\n",
    "    ax4.bar(types,y, color = ['red', 'blue'])\n",
    "    print(\"updated\")\n",
    "\n",
    "    \n",
    "##Button declaration    \n",
    "b9 = Button(\n",
    "    description='Update plot',\n",
    "    layout=Layout(width='25%', align=\"center\"),\n",
    "    style=ButtonStyle(button_color='lightblue'))\n",
    "\n",
    "b9.on_click(on_button9_clicked)\n",
    "\n",
    "b9\n"
   ]
  },
  {
   "cell_type": "markdown",
   "id": "3962ba6e",
   "metadata": {},
   "source": [
    "# This module sets up a plot for displaying elapsed times for rached targets\n",
    "\n",
    "Here the values are retrieved every time the button to update the plot is pressed, and the plot is redrawn accordingly."
   ]
  },
  {
   "cell_type": "code",
   "execution_count": null,
   "id": "6fb176e7",
   "metadata": {
    "ExecuteTime": {
     "end_time": "2021-09-22T12:04:59.889401Z",
     "start_time": "2021-09-22T12:04:59.272629Z"
    },
    "scrolled": false
   },
   "outputs": [],
   "source": [
    "n_bins = reached +1\n",
    "\n",
    "fig_5, ax5 = plt.subplots()\n",
    "\n",
    "ax5.set_title('Elapsed times for reached objectives')\n",
    "\n",
    "## Function triggered when clicked on button\n",
    "#\n",
    "# Updates the plot\n",
    "def on_button10_clicked(b):\n",
    "    ax5.hist(times, bins=n_bins, color=['blue'])\n",
    "    print(\"updated\")\n",
    "    \n",
    "## Button declaration    \n",
    "b10 = Button(\n",
    "    description='Update plot',\n",
    "    layout=Layout(width='25%', align=\"center\"),\n",
    "    style=ButtonStyle(button_color='lightblue'))\n",
    "\n",
    "b10.on_click(on_button10_clicked)\n",
    "\n",
    "b10\n"
   ]
  }
 ],
 "metadata": {
  "kernelspec": {
   "display_name": "Python 3",
   "language": "python",
   "name": "python3"
  },
  "language_info": {
   "codemirror_mode": {
    "name": "ipython",
    "version": 3
   },
   "file_extension": ".py",
   "mimetype": "text/x-python",
   "name": "python",
   "nbconvert_exporter": "python",
   "pygments_lexer": "ipython3",
   "version": "3.8.5"
  },
  "toc": {
   "base_numbering": 1,
   "nav_menu": {},
   "number_sections": true,
   "sideBar": true,
   "skip_h1_title": false,
   "title_cell": "Table of Contents",
   "title_sidebar": "Contents",
   "toc_cell": false,
   "toc_position": {},
   "toc_section_display": true,
   "toc_window_display": false
  },
  "varInspector": {
   "cols": {
    "lenName": 16,
    "lenType": 16,
    "lenVar": 40
   },
   "kernels_config": {
    "python": {
     "delete_cmd_postfix": "",
     "delete_cmd_prefix": "del ",
     "library": "var_list.py",
     "varRefreshCmd": "print(var_dic_list())"
    },
    "r": {
     "delete_cmd_postfix": ") ",
     "delete_cmd_prefix": "rm(",
     "library": "var_list.r",
     "varRefreshCmd": "cat(var_dic_list()) "
    }
   },
   "types_to_exclude": [
    "module",
    "function",
    "builtin_function_or_method",
    "instance",
    "_Feature"
   ],
   "window_display": false
  }
 },
 "nbformat": 4,
 "nbformat_minor": 5
}

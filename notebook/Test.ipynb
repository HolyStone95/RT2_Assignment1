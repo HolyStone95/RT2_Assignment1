{
 "cells": [
  {
   "cell_type": "code",
   "execution_count": 1,
   "id": "7c38ca1a",
   "metadata": {
    "ExecuteTime": {
     "end_time": "2021-09-22T11:49:40.378155Z",
     "start_time": "2021-09-22T11:49:33.076585Z"
    }
   },
   "outputs": [
    {
     "data": {
      "application/vnd.jupyter.widget-view+json": {
       "model_id": "343c66d5fc1d466cb88d81cbfa96f840",
       "version_major": 2,
       "version_minor": 0
      },
      "text/plain": [
       "Canvas(toolbar=Toolbar(toolitems=[('Home', 'Reset original view', 'home', 'home'), ('Back', 'Back to previous …"
      ]
     },
     "metadata": {},
     "output_type": "display_data"
    },
    {
     "data": {
      "application/vnd.jupyter.widget-view+json": {
       "model_id": "8c77bcca983e4a119842cb2cf43769a4",
       "version_major": 2,
       "version_minor": 0
      },
      "text/plain": [
       "Canvas(toolbar=Toolbar(toolitems=[('Home', 'Reset original view', 'home', 'home'), ('Back', 'Back to previous …"
      ]
     },
     "metadata": {},
     "output_type": "display_data"
    }
   ],
   "source": [
    "from ipywidgets import Button, Layout, ButtonStyle, GridBox, VBox, HBox\n",
    "import numpy as np\n",
    "import matplotlib.pyplot as plt\n",
    "import jupyros as jr\n",
    "import rospy\n",
    "import time\n",
    "import math\n",
    "from rt2_assignment1.srv import Command\n",
    "import actionlib\n",
    "import rt2_assignment1.msg\n",
    "from geometry_msgs.msg import Twist\n",
    "from matplotlib import animation, rc\n",
    "import ipywidgets as widgets\n",
    "from IPython.display import display\n",
    "from matplotlib import animation, rc\n",
    "from matplotlib.animation import FuncAnimation\n",
    "from nav_msgs.msg import Odometry\n",
    "from rt2_assignment1.msg import GoalReachingActionResult\n",
    "%matplotlib widget\n",
    "\n",
    "rospy.init_node('user_interface')\n",
    "\n",
    "clock = time.time() #get the offset of time\n",
    "time1 = list(range(0, 10)) #list for plot the time coordinate \n",
    "odom_linear =list() #list to plot the linear velocity gets by /odom\n",
    "cmdvel_linear=list() #list to plot the linear velocity gets by /cmd_vel\n",
    "odom_angular =list() #list to plot the angular velocity gets by /odom\n",
    "cmdvel_angular=list() #list to plot the angular velocity gets by /cmd_vel\n",
    "\n",
    "def clb_cmdvel(msg):\n",
    "    global cmdvel_angular,cmdvel_linear\n",
    "    if len(cmdvel_linear)>10:\n",
    "      cmdvel_linear.pop(0)\n",
    "      cmdvel_angular.pop(0)\n",
    "    #get values\n",
    "    iupsilon1 = np.float32(msg.linear.x)\n",
    "    iupsilon2 = np.float32(msg.angular.z)\n",
    "    #update arrays\n",
    "    cmdvel_angular.append(iupsilon2)\n",
    "    cmdvel_linear.append(iupsilon1)\n",
    "\n",
    "def clb_odom(msg):\n",
    "    global dx,dy\n",
    "    global  y_data,x_data\n",
    "    global time1,odom_angular,odom_linear\n",
    "    if len(time1)>10:\n",
    "      time1.pop(0)\n",
    "      odom_angular.pop(0)\n",
    "      odom_linear.pop(0)\n",
    "    #get angular and linear velocity\n",
    "    y1 = np.float32(msg.twist.twist.angular.z)\n",
    "    y2 = np.float32(msg.twist.twist.linear.x)\n",
    "    #update timeline\n",
    "    t = np.float32(time.time()-clock)\n",
    "    #actual data inserted in array\n",
    "    odom_angular.append(y1)\n",
    "    time1.append(t)\n",
    "    odom_linear.append(y2)\n",
    "    \n",
    "odom_sub=rospy.Subscriber('/odom',Odometry, clb_odom)\n",
    "cmd_sub=rospy.Subscriber('/cmd_vel', Twist, clb_cmdvel)\n",
    "    \n",
    "def init1():\n",
    "    line1.set_data([], [])\n",
    "    line2.set_data([], [])\n",
    "    return [line1,line2]\n",
    "\n",
    "fig1, ax1 = plt.subplots()\n",
    "\n",
    "line1, = ax1.plot([], [], color ='r', label ='/odom')\n",
    "line2, = ax1.plot([], [], color ='b', label ='/cmd_vel')\n",
    "ax1.set_xlabel('time (s)') \n",
    "ax1.set_ylabel('velocity m/s')\n",
    "ax1.set_title(\"Linear velocity\")\n",
    "plt.legend(loc='upper right')\n",
    "\n",
    "def animate1(i):\n",
    "    #updated values are set in the line\n",
    "    line1.set_data(time1, odom_linear)\n",
    "    line2.set_data(time1, cmdvel_linear)\n",
    "    ax1.axis([time1[0]-0.2,time1[9]+0.2,-0.5,0.5]) #x axis is continously updated too   \n",
    "    return [line1,line2]\n",
    "\n",
    "#animator\n",
    "anim1 = animation.FuncAnimation(fig1, animate1, init_func=init1,\n",
    "                               frames=100, interval=20, blit=True)\n",
    "\n",
    "def init2():\n",
    "    line3.set_data([], [])\n",
    "    line4.set_data([], [])\n",
    "    return [line3,line4]\n",
    "\n",
    "fig2, ax2 = plt.subplots()\n",
    "\n",
    "line3, = ax2.plot([], [], color ='r', label ='/odom')\n",
    "line4, = ax2.plot([], [], color ='b', label ='/cmd_vel')\n",
    "ax2.set_xlabel('time (s)') \n",
    "ax2.set_ylabel('velocity rad/s')\n",
    "ax2.set_title(\"Angular velocity\")\n",
    "plt.legend(loc='upper right')\n",
    "\n",
    "def animate2(i):\n",
    "    line3.set_data(time1, odom_angular)\n",
    "    line4.set_data(time1, cmdvel_angular)\n",
    "    ax2.axis([time1[0]-0.2,time1[9]+0.2,-0.5,0.5])\n",
    "    return [line3,line4]\n",
    "\n",
    "anim2 = animation.FuncAnimation(fig2, animate2, init_func=init2,\n",
    "                               frames=100, interval=20, blit=True)"
   ]
  },
  {
   "cell_type": "code",
   "execution_count": null,
   "id": "0bf3314f",
   "metadata": {},
   "outputs": [],
   "source": []
  },
  {
   "cell_type": "code",
   "execution_count": null,
   "id": "ccdcce41",
   "metadata": {},
   "outputs": [],
   "source": []
  }
 ],
 "metadata": {
  "kernelspec": {
   "display_name": "Python 3",
   "language": "python",
   "name": "python3"
  },
  "language_info": {
   "codemirror_mode": {
    "name": "ipython",
    "version": 3
   },
   "file_extension": ".py",
   "mimetype": "text/x-python",
   "name": "python",
   "nbconvert_exporter": "python",
   "pygments_lexer": "ipython3",
   "version": "3.8.5"
  },
  "toc": {
   "base_numbering": 1,
   "nav_menu": {},
   "number_sections": true,
   "sideBar": true,
   "skip_h1_title": false,
   "title_cell": "Table of Contents",
   "title_sidebar": "Contents",
   "toc_cell": false,
   "toc_position": {},
   "toc_section_display": true,
   "toc_window_display": false
  },
  "varInspector": {
   "cols": {
    "lenName": 16,
    "lenType": 16,
    "lenVar": 40
   },
   "kernels_config": {
    "python": {
     "delete_cmd_postfix": "",
     "delete_cmd_prefix": "del ",
     "library": "var_list.py",
     "varRefreshCmd": "print(var_dic_list())"
    },
    "r": {
     "delete_cmd_postfix": ") ",
     "delete_cmd_prefix": "rm(",
     "library": "var_list.r",
     "varRefreshCmd": "cat(var_dic_list()) "
    }
   },
   "types_to_exclude": [
    "module",
    "function",
    "builtin_function_or_method",
    "instance",
    "_Feature"
   ],
   "window_display": false
  }
 },
 "nbformat": 4,
 "nbformat_minor": 5
}
